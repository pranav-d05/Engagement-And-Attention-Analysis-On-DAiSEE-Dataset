{
 "cells": [
  {
   "cell_type": "code",
   "execution_count": null,
   "metadata": {},
   "outputs": [],
   "source": [
    "import cv2\n",
    "import os\n",
    "from tqdm import tqdm  # For progress bar"
   ]
  },
  {
   "cell_type": "code",
   "execution_count": null,
   "metadata": {},
   "outputs": [],
   "source": [
    "\n",
    "def extract_frames(video_path, output_folder, num_frames=50):\n",
    "    # Create the output folder if it doesn't exist\n",
    "    if not os.path.exists(output_folder):\n",
    "        os.makedirs(output_folder)\n",
    "\n",
    "    # Open the video file\n",
    "    cap = cv2.VideoCapture(video_path)\n",
    "    if not cap.isOpened():\n",
    "        print(f\"Error: Could not open video {video_path}\")\n",
    "        return\n",
    "\n",
    "    # Get the total number of frames in the video\n",
    "    total_frames = int(cap.get(cv2.CAP_PROP_FRAME_COUNT))\n",
    "\n",
    "    # Calculate the interval to extract exactly `num_frames`\n",
    "    interval = max(1, total_frames // num_frames)\n",
    "\n",
    "    # Extract frames\n",
    "    frame_count = 0\n",
    "    saved_count = 0\n",
    "    while saved_count < num_frames:\n",
    "        ret, frame = cap.read()\n",
    "        if not ret:\n",
    "            break\n",
    "\n",
    "        # Save frame at the calculated interval\n",
    "        if frame_count % interval == 0:\n",
    "            frame_filename = os.path.join(output_folder, f\"frame_{saved_count:04d}.jpg\")\n",
    "            cv2.imwrite(frame_filename, frame)\n",
    "            saved_count += 1\n",
    "\n",
    "        frame_count += 1\n",
    "\n",
    "    # Release the video capture object\n",
    "    cap.release()"
   ]
  },
  {
   "cell_type": "code",
   "execution_count": 4,
   "metadata": {},
   "outputs": [],
   "source": [
    "\n",
    "def process_dataset(dataset_folder, output_root, num_frames=50):\n",
    "    \"\"\"\n",
    "    Processes all videos in the dataset folder and extracts frames.\n",
    "    \"\"\"\n",
    "    # Iterate through all subjects and videos\n",
    "    for subject_folder in tqdm(os.listdir(dataset_folder)):\n",
    "        subject_path = os.path.join(dataset_folder, subject_folder)\n",
    "        if not os.path.isdir(subject_path):\n",
    "            continue\n",
    "\n",
    "        for video_folder in os.listdir(subject_path):\n",
    "            video_path = os.path.join(subject_path, video_folder)\n",
    "            if not os.path.isdir(video_path):\n",
    "                continue\n",
    "\n",
    "            # Create output folder for frames\n",
    "            output_folder = os.path.join(output_root, subject_folder, video_folder)\n",
    "            os.makedirs(output_folder, exist_ok=True)\n",
    "\n",
    "            # Find the video file (assuming only one video file per folder)\n",
    "            video_file = None\n",
    "            for file in os.listdir(video_path):\n",
    "                if file.endswith(\".avi\") or file.endswith(\".mp4\"):\n",
    "                    video_file = os.path.join(video_path, file)\n",
    "                    break\n",
    "\n",
    "            if video_file:\n",
    "                # Extract frames from the video\n",
    "                extract_frames(video_file, output_folder, num_frames)\n"
   ]
  },
  {
   "cell_type": "code",
   "execution_count": 6,
   "metadata": {},
   "outputs": [
    {
     "name": "stderr",
     "output_type": "stream",
     "text": [
      "100%|██████████| 22/22 [09:19<00:00, 25.41s/it]\n"
     ]
    }
   ],
   "source": [
    "# Paths\n",
    "dataset_folder = r\"P:\\DAiSEE\\DAiSEE\\DataSet\\Validation\"  # Change to Training, Testing, or Validation as needed\n",
    "output_root = r\"P:\\Project\\Frames\\Validation\"\n",
    "\n",
    "# Process the dataset\n",
    "process_dataset(dataset_folder, output_root, num_frames=50)"
   ]
  },
  {
   "cell_type": "code",
   "execution_count": null,
   "metadata": {},
   "outputs": [],
   "source": []
  }
 ],
 "metadata": {
  "kernelspec": {
   "display_name": "tensorflow_env",
   "language": "python",
   "name": "python3"
  },
  "language_info": {
   "codemirror_mode": {
    "name": "ipython",
    "version": 3
   },
   "file_extension": ".py",
   "mimetype": "text/x-python",
   "name": "python",
   "nbconvert_exporter": "python",
   "pygments_lexer": "ipython3",
   "version": "3.10.16"
  }
 },
 "nbformat": 4,
 "nbformat_minor": 2
}
